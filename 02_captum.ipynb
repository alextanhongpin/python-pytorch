{
 "cells": [
  {
   "cell_type": "markdown",
   "id": "0686192f-8de2-4dd9-a955-6e62edf8209c",
   "metadata": {},
   "source": [
    "# Captum\n",
    "\n",
    "Model interpretability with Captum:\n",
    "\n",
    "https://captum.ai/tutorials/"
   ]
  },
  {
   "cell_type": "code",
   "execution_count": null,
   "id": "82e179ed-a350-4cb3-8428-933f41e5bbde",
   "metadata": {},
   "outputs": [],
   "source": []
  }
 ],
 "metadata": {
  "kernelspec": {
   "display_name": "Python 3 (ipykernel)",
   "language": "python",
   "name": "python3"
  },
  "language_info": {
   "codemirror_mode": {
    "name": "ipython",
    "version": 3
   },
   "file_extension": ".py",
   "mimetype": "text/x-python",
   "name": "python",
   "nbconvert_exporter": "python",
   "pygments_lexer": "ipython3",
   "version": "3.11.8"
  }
 },
 "nbformat": 4,
 "nbformat_minor": 5
}
