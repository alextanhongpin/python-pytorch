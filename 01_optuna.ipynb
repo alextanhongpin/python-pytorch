{
 "cells": [
  {
   "cell_type": "markdown",
   "id": "566a2f04-4637-40a3-86fd-f3ad3b9e506c",
   "metadata": {},
   "source": [
    "\n",
    "# Optuna"
   ]
  },
  {
   "cell_type": "markdown",
   "id": "01bda81d-ec34-4b2e-b907-06881b071ed6",
   "metadata": {},
   "source": [
    "## What\n",
    "Use optuna for hyperparameter optimization."
   ]
  },
  {
   "cell_type": "markdown",
   "id": "03d1a0ca-e251-4f86-a813-e5593e4669c1",
   "metadata": {},
   "source": [
    "## Example\n",
    "\n",
    "We can optimize PyTorch hyperparameters, such as the number of layers and the number of hidden nodes in each layer:\n",
    "\n",
    "1. wrap model training with an `objective` function and return `accuracy`\n",
    "2. suggest hyperparameters using a `trial` object\n",
    "3. Create a `study` object and execute the optimization\n",
    "\n",
    "This example is not completed, revisit once we have a simple model to test."
   ]
  },
  {
   "cell_type": "code",
   "execution_count": 5,
   "id": "93aa4424-4ef8-40c4-800e-ebced5c661e2",
   "metadata": {
    "execution": {
     "iopub.execute_input": "2024-03-09T08:24:56.529342Z",
     "iopub.status.busy": "2024-03-09T08:24:56.528491Z",
     "iopub.status.idle": "2024-03-09T08:24:56.540129Z",
     "shell.execute_reply": "2024-03-09T08:24:56.537931Z",
     "shell.execute_reply.started": "2024-03-09T08:24:56.529288Z"
    }
   },
   "outputs": [
    {
     "name": "stdout",
     "output_type": "stream",
     "text": [
      "torch: 2.2.0\n",
      "optuna: 3.5.0\n"
     ]
    }
   ],
   "source": [
    "import optuna\n",
    "import torch\n",
    "\n",
    "print(f\"torch: {torch.__version__}\")\n",
    "print(f\"optuna: {optuna.__version__}\")"
   ]
  },
  {
   "cell_type": "code",
   "execution_count": 8,
   "id": "b01c39b3-2ba3-4f89-93a9-2b9d6a155b47",
   "metadata": {
    "execution": {
     "iopub.execute_input": "2024-03-09T08:29:22.354725Z",
     "iopub.status.busy": "2024-03-09T08:29:22.351049Z",
     "iopub.status.idle": "2024-03-09T08:29:23.075957Z",
     "shell.execute_reply": "2024-03-09T08:29:23.074262Z",
     "shell.execute_reply.started": "2024-03-09T08:29:22.354476Z"
    }
   },
   "outputs": [
    {
     "name": "stderr",
     "output_type": "stream",
     "text": [
      "[I 2024-03-09 16:29:22,376] A new study created in memory with name: no-name-843cd283-04f2-4a5f-94af-2e7d968c77bf\n",
      "[W 2024-03-09 16:29:22,441] Trial 0 failed with parameters: {'n_layers': 1, 'n_units_l0': 38} because of the following error: NameError(\"name 'accuracy' is not defined\").\n",
      "Traceback (most recent call last):\n",
      "  File \"/Users/alextanhongpin/Documents/python/python-pytorch/.venv/lib/python3.11/site-packages/optuna/study/_optimize.py\", line 200, in _run_trial\n",
      "    value_or_values = func(trial)\n",
      "                      ^^^^^^^^^^^\n",
      "  File \"/var/folders/7m/74_ct3hx33d878n626w1wxyc0000gn/T/ipykernel_64710/664299672.py\", line 17, in objective\n",
      "    return accuracy\n",
      "           ^^^^^^^^\n",
      "NameError: name 'accuracy' is not defined\n",
      "[W 2024-03-09 16:29:22,445] Trial 0 failed with value None.\n"
     ]
    },
    {
     "ename": "NameError",
     "evalue": "name 'accuracy' is not defined",
     "output_type": "error",
     "traceback": [
      "\u001b[0;31m---------------------------------------------------------------------------\u001b[0m",
      "\u001b[0;31mNameError\u001b[0m                                 Traceback (most recent call last)",
      "Cell \u001b[0;32mIn[8], line 22\u001b[0m\n\u001b[1;32m     20\u001b[0m \u001b[38;5;66;03m# 3. Create a study object and optimize the objective function.\u001b[39;00m\n\u001b[1;32m     21\u001b[0m study \u001b[38;5;241m=\u001b[39m optuna\u001b[38;5;241m.\u001b[39mcreate_study(direction\u001b[38;5;241m=\u001b[39m\u001b[38;5;124m\"\u001b[39m\u001b[38;5;124mmaximize\u001b[39m\u001b[38;5;124m\"\u001b[39m)\n\u001b[0;32m---> 22\u001b[0m \u001b[43mstudy\u001b[49m\u001b[38;5;241;43m.\u001b[39;49m\u001b[43moptimize\u001b[49m\u001b[43m(\u001b[49m\u001b[43mobjective\u001b[49m\u001b[43m,\u001b[49m\u001b[43m \u001b[49m\u001b[43mn_trials\u001b[49m\u001b[38;5;241;43m=\u001b[39;49m\u001b[38;5;241;43m100\u001b[39;49m\u001b[43m)\u001b[49m\n",
      "File \u001b[0;32m~/Documents/python/python-pytorch/.venv/lib/python3.11/site-packages/optuna/study/study.py:451\u001b[0m, in \u001b[0;36mStudy.optimize\u001b[0;34m(self, func, n_trials, timeout, n_jobs, catch, callbacks, gc_after_trial, show_progress_bar)\u001b[0m\n\u001b[1;32m    348\u001b[0m \u001b[38;5;28;01mdef\u001b[39;00m \u001b[38;5;21moptimize\u001b[39m(\n\u001b[1;32m    349\u001b[0m     \u001b[38;5;28mself\u001b[39m,\n\u001b[1;32m    350\u001b[0m     func: ObjectiveFuncType,\n\u001b[0;32m   (...)\u001b[0m\n\u001b[1;32m    357\u001b[0m     show_progress_bar: \u001b[38;5;28mbool\u001b[39m \u001b[38;5;241m=\u001b[39m \u001b[38;5;28;01mFalse\u001b[39;00m,\n\u001b[1;32m    358\u001b[0m ) \u001b[38;5;241m-\u001b[39m\u001b[38;5;241m>\u001b[39m \u001b[38;5;28;01mNone\u001b[39;00m:\n\u001b[1;32m    359\u001b[0m \u001b[38;5;250m    \u001b[39m\u001b[38;5;124;03m\"\"\"Optimize an objective function.\u001b[39;00m\n\u001b[1;32m    360\u001b[0m \n\u001b[1;32m    361\u001b[0m \u001b[38;5;124;03m    Optimization is done by choosing a suitable set of hyperparameter values from a given\u001b[39;00m\n\u001b[0;32m   (...)\u001b[0m\n\u001b[1;32m    449\u001b[0m \u001b[38;5;124;03m            If nested invocation of this method occurs.\u001b[39;00m\n\u001b[1;32m    450\u001b[0m \u001b[38;5;124;03m    \"\"\"\u001b[39;00m\n\u001b[0;32m--> 451\u001b[0m     \u001b[43m_optimize\u001b[49m\u001b[43m(\u001b[49m\n\u001b[1;32m    452\u001b[0m \u001b[43m        \u001b[49m\u001b[43mstudy\u001b[49m\u001b[38;5;241;43m=\u001b[39;49m\u001b[38;5;28;43mself\u001b[39;49m\u001b[43m,\u001b[49m\n\u001b[1;32m    453\u001b[0m \u001b[43m        \u001b[49m\u001b[43mfunc\u001b[49m\u001b[38;5;241;43m=\u001b[39;49m\u001b[43mfunc\u001b[49m\u001b[43m,\u001b[49m\n\u001b[1;32m    454\u001b[0m \u001b[43m        \u001b[49m\u001b[43mn_trials\u001b[49m\u001b[38;5;241;43m=\u001b[39;49m\u001b[43mn_trials\u001b[49m\u001b[43m,\u001b[49m\n\u001b[1;32m    455\u001b[0m \u001b[43m        \u001b[49m\u001b[43mtimeout\u001b[49m\u001b[38;5;241;43m=\u001b[39;49m\u001b[43mtimeout\u001b[49m\u001b[43m,\u001b[49m\n\u001b[1;32m    456\u001b[0m \u001b[43m        \u001b[49m\u001b[43mn_jobs\u001b[49m\u001b[38;5;241;43m=\u001b[39;49m\u001b[43mn_jobs\u001b[49m\u001b[43m,\u001b[49m\n\u001b[1;32m    457\u001b[0m \u001b[43m        \u001b[49m\u001b[43mcatch\u001b[49m\u001b[38;5;241;43m=\u001b[39;49m\u001b[38;5;28;43mtuple\u001b[39;49m\u001b[43m(\u001b[49m\u001b[43mcatch\u001b[49m\u001b[43m)\u001b[49m\u001b[43m \u001b[49m\u001b[38;5;28;43;01mif\u001b[39;49;00m\u001b[43m \u001b[49m\u001b[38;5;28;43misinstance\u001b[39;49m\u001b[43m(\u001b[49m\u001b[43mcatch\u001b[49m\u001b[43m,\u001b[49m\u001b[43m \u001b[49m\u001b[43mIterable\u001b[49m\u001b[43m)\u001b[49m\u001b[43m \u001b[49m\u001b[38;5;28;43;01melse\u001b[39;49;00m\u001b[43m \u001b[49m\u001b[43m(\u001b[49m\u001b[43mcatch\u001b[49m\u001b[43m,\u001b[49m\u001b[43m)\u001b[49m\u001b[43m,\u001b[49m\n\u001b[1;32m    458\u001b[0m \u001b[43m        \u001b[49m\u001b[43mcallbacks\u001b[49m\u001b[38;5;241;43m=\u001b[39;49m\u001b[43mcallbacks\u001b[49m\u001b[43m,\u001b[49m\n\u001b[1;32m    459\u001b[0m \u001b[43m        \u001b[49m\u001b[43mgc_after_trial\u001b[49m\u001b[38;5;241;43m=\u001b[39;49m\u001b[43mgc_after_trial\u001b[49m\u001b[43m,\u001b[49m\n\u001b[1;32m    460\u001b[0m \u001b[43m        \u001b[49m\u001b[43mshow_progress_bar\u001b[49m\u001b[38;5;241;43m=\u001b[39;49m\u001b[43mshow_progress_bar\u001b[49m\u001b[43m,\u001b[49m\n\u001b[1;32m    461\u001b[0m \u001b[43m    \u001b[49m\u001b[43m)\u001b[49m\n",
      "File \u001b[0;32m~/Documents/python/python-pytorch/.venv/lib/python3.11/site-packages/optuna/study/_optimize.py:66\u001b[0m, in \u001b[0;36m_optimize\u001b[0;34m(study, func, n_trials, timeout, n_jobs, catch, callbacks, gc_after_trial, show_progress_bar)\u001b[0m\n\u001b[1;32m     64\u001b[0m \u001b[38;5;28;01mtry\u001b[39;00m:\n\u001b[1;32m     65\u001b[0m     \u001b[38;5;28;01mif\u001b[39;00m n_jobs \u001b[38;5;241m==\u001b[39m \u001b[38;5;241m1\u001b[39m:\n\u001b[0;32m---> 66\u001b[0m         \u001b[43m_optimize_sequential\u001b[49m\u001b[43m(\u001b[49m\n\u001b[1;32m     67\u001b[0m \u001b[43m            \u001b[49m\u001b[43mstudy\u001b[49m\u001b[43m,\u001b[49m\n\u001b[1;32m     68\u001b[0m \u001b[43m            \u001b[49m\u001b[43mfunc\u001b[49m\u001b[43m,\u001b[49m\n\u001b[1;32m     69\u001b[0m \u001b[43m            \u001b[49m\u001b[43mn_trials\u001b[49m\u001b[43m,\u001b[49m\n\u001b[1;32m     70\u001b[0m \u001b[43m            \u001b[49m\u001b[43mtimeout\u001b[49m\u001b[43m,\u001b[49m\n\u001b[1;32m     71\u001b[0m \u001b[43m            \u001b[49m\u001b[43mcatch\u001b[49m\u001b[43m,\u001b[49m\n\u001b[1;32m     72\u001b[0m \u001b[43m            \u001b[49m\u001b[43mcallbacks\u001b[49m\u001b[43m,\u001b[49m\n\u001b[1;32m     73\u001b[0m \u001b[43m            \u001b[49m\u001b[43mgc_after_trial\u001b[49m\u001b[43m,\u001b[49m\n\u001b[1;32m     74\u001b[0m \u001b[43m            \u001b[49m\u001b[43mreseed_sampler_rng\u001b[49m\u001b[38;5;241;43m=\u001b[39;49m\u001b[38;5;28;43;01mFalse\u001b[39;49;00m\u001b[43m,\u001b[49m\n\u001b[1;32m     75\u001b[0m \u001b[43m            \u001b[49m\u001b[43mtime_start\u001b[49m\u001b[38;5;241;43m=\u001b[39;49m\u001b[38;5;28;43;01mNone\u001b[39;49;00m\u001b[43m,\u001b[49m\n\u001b[1;32m     76\u001b[0m \u001b[43m            \u001b[49m\u001b[43mprogress_bar\u001b[49m\u001b[38;5;241;43m=\u001b[39;49m\u001b[43mprogress_bar\u001b[49m\u001b[43m,\u001b[49m\n\u001b[1;32m     77\u001b[0m \u001b[43m        \u001b[49m\u001b[43m)\u001b[49m\n\u001b[1;32m     78\u001b[0m     \u001b[38;5;28;01melse\u001b[39;00m:\n\u001b[1;32m     79\u001b[0m         \u001b[38;5;28;01mif\u001b[39;00m n_jobs \u001b[38;5;241m==\u001b[39m \u001b[38;5;241m-\u001b[39m\u001b[38;5;241m1\u001b[39m:\n",
      "File \u001b[0;32m~/Documents/python/python-pytorch/.venv/lib/python3.11/site-packages/optuna/study/_optimize.py:163\u001b[0m, in \u001b[0;36m_optimize_sequential\u001b[0;34m(study, func, n_trials, timeout, catch, callbacks, gc_after_trial, reseed_sampler_rng, time_start, progress_bar)\u001b[0m\n\u001b[1;32m    160\u001b[0m         \u001b[38;5;28;01mbreak\u001b[39;00m\n\u001b[1;32m    162\u001b[0m \u001b[38;5;28;01mtry\u001b[39;00m:\n\u001b[0;32m--> 163\u001b[0m     frozen_trial \u001b[38;5;241m=\u001b[39m \u001b[43m_run_trial\u001b[49m\u001b[43m(\u001b[49m\u001b[43mstudy\u001b[49m\u001b[43m,\u001b[49m\u001b[43m \u001b[49m\u001b[43mfunc\u001b[49m\u001b[43m,\u001b[49m\u001b[43m \u001b[49m\u001b[43mcatch\u001b[49m\u001b[43m)\u001b[49m\n\u001b[1;32m    164\u001b[0m \u001b[38;5;28;01mfinally\u001b[39;00m:\n\u001b[1;32m    165\u001b[0m     \u001b[38;5;66;03m# The following line mitigates memory problems that can be occurred in some\u001b[39;00m\n\u001b[1;32m    166\u001b[0m     \u001b[38;5;66;03m# environments (e.g., services that use computing containers such as GitHub Actions).\u001b[39;00m\n\u001b[1;32m    167\u001b[0m     \u001b[38;5;66;03m# Please refer to the following PR for further details:\u001b[39;00m\n\u001b[1;32m    168\u001b[0m     \u001b[38;5;66;03m# https://github.com/optuna/optuna/pull/325.\u001b[39;00m\n\u001b[1;32m    169\u001b[0m     \u001b[38;5;28;01mif\u001b[39;00m gc_after_trial:\n",
      "File \u001b[0;32m~/Documents/python/python-pytorch/.venv/lib/python3.11/site-packages/optuna/study/_optimize.py:251\u001b[0m, in \u001b[0;36m_run_trial\u001b[0;34m(study, func, catch)\u001b[0m\n\u001b[1;32m    244\u001b[0m         \u001b[38;5;28;01massert\u001b[39;00m \u001b[38;5;28;01mFalse\u001b[39;00m, \u001b[38;5;124m\"\u001b[39m\u001b[38;5;124mShould not reach.\u001b[39m\u001b[38;5;124m\"\u001b[39m\n\u001b[1;32m    246\u001b[0m \u001b[38;5;28;01mif\u001b[39;00m (\n\u001b[1;32m    247\u001b[0m     frozen_trial\u001b[38;5;241m.\u001b[39mstate \u001b[38;5;241m==\u001b[39m TrialState\u001b[38;5;241m.\u001b[39mFAIL\n\u001b[1;32m    248\u001b[0m     \u001b[38;5;129;01mand\u001b[39;00m func_err \u001b[38;5;129;01mis\u001b[39;00m \u001b[38;5;129;01mnot\u001b[39;00m \u001b[38;5;28;01mNone\u001b[39;00m\n\u001b[1;32m    249\u001b[0m     \u001b[38;5;129;01mand\u001b[39;00m \u001b[38;5;129;01mnot\u001b[39;00m \u001b[38;5;28misinstance\u001b[39m(func_err, catch)\n\u001b[1;32m    250\u001b[0m ):\n\u001b[0;32m--> 251\u001b[0m     \u001b[38;5;28;01mraise\u001b[39;00m func_err\n\u001b[1;32m    252\u001b[0m \u001b[38;5;28;01mreturn\u001b[39;00m frozen_trial\n",
      "File \u001b[0;32m~/Documents/python/python-pytorch/.venv/lib/python3.11/site-packages/optuna/study/_optimize.py:200\u001b[0m, in \u001b[0;36m_run_trial\u001b[0;34m(study, func, catch)\u001b[0m\n\u001b[1;32m    198\u001b[0m \u001b[38;5;28;01mwith\u001b[39;00m get_heartbeat_thread(trial\u001b[38;5;241m.\u001b[39m_trial_id, study\u001b[38;5;241m.\u001b[39m_storage):\n\u001b[1;32m    199\u001b[0m     \u001b[38;5;28;01mtry\u001b[39;00m:\n\u001b[0;32m--> 200\u001b[0m         value_or_values \u001b[38;5;241m=\u001b[39m \u001b[43mfunc\u001b[49m\u001b[43m(\u001b[49m\u001b[43mtrial\u001b[49m\u001b[43m)\u001b[49m\n\u001b[1;32m    201\u001b[0m     \u001b[38;5;28;01mexcept\u001b[39;00m exceptions\u001b[38;5;241m.\u001b[39mTrialPruned \u001b[38;5;28;01mas\u001b[39;00m e:\n\u001b[1;32m    202\u001b[0m         \u001b[38;5;66;03m# TODO(mamu): Handle multi-objective cases.\u001b[39;00m\n\u001b[1;32m    203\u001b[0m         state \u001b[38;5;241m=\u001b[39m TrialState\u001b[38;5;241m.\u001b[39mPRUNED\n",
      "Cell \u001b[0;32mIn[8], line 17\u001b[0m, in \u001b[0;36mobjective\u001b[0;34m(trial)\u001b[0m\n\u001b[1;32m     15\u001b[0m model \u001b[38;5;241m=\u001b[39m torch\u001b[38;5;241m.\u001b[39mnn\u001b[38;5;241m.\u001b[39mSequential(\u001b[38;5;241m*\u001b[39mlayers)\u001b[38;5;241m.\u001b[39mto(torch\u001b[38;5;241m.\u001b[39mdevice(\u001b[38;5;124m\"\u001b[39m\u001b[38;5;124mcpu\u001b[39m\u001b[38;5;124m\"\u001b[39m))\n\u001b[1;32m     16\u001b[0m \u001b[38;5;66;03m# ...\u001b[39;00m\n\u001b[0;32m---> 17\u001b[0m \u001b[38;5;28;01mreturn\u001b[39;00m \u001b[43maccuracy\u001b[49m\n",
      "\u001b[0;31mNameError\u001b[0m: name 'accuracy' is not defined"
     ]
    }
   ],
   "source": [
    "# 1. Define an objective function to be maximized.\n",
    "def objective(trial):\n",
    "    # 2. Suggest values of the hyperparameters using a trial object.\n",
    "    n_layers = trial.suggest_int(\"n_layers\", 1, 3)\n",
    "    layers = []\n",
    "\n",
    "    in_features = 28 * 28\n",
    "    for i in range(n_layers):\n",
    "        out_features = trial.suggest_int(f\"n_units_l{i}\", 4, 128)\n",
    "        layers.append(torch.nn.Linear(in_features, out_features))\n",
    "        layers.append(torch.nn.ReLU())\n",
    "        in_features = out_features\n",
    "    layers.append(torch.nn.Linear(in_features, 10))\n",
    "    layers.append(torch.nn.LogSoftmax(dim=1))\n",
    "    model = torch.nn.Sequential(*layers).to(torch.device(\"cpu\"))\n",
    "    # ...\n",
    "    return accuracy\n",
    "\n",
    "\n",
    "# 3. Create a study object and optimize the objective function.\n",
    "study = optuna.create_study(direction=\"maximize\")\n",
    "study.optimize(objective, n_trials=100)"
   ]
  },
  {
   "cell_type": "code",
   "execution_count": 7,
   "id": "5d7a3368-f661-435b-9933-6cc79d00ce3a",
   "metadata": {
    "execution": {
     "iopub.execute_input": "2024-03-09T08:28:32.433551Z",
     "iopub.status.busy": "2024-03-09T08:28:32.432905Z",
     "iopub.status.idle": "2024-03-09T08:29:22.315436Z",
     "shell.execute_reply": "2024-03-09T08:29:22.314025Z",
     "shell.execute_reply.started": "2024-03-09T08:28:32.433516Z"
    }
   },
   "outputs": [
    {
     "name": "stdout",
     "output_type": "stream",
     "text": [
      "Traceback (most recent call last):\n",
      "  File \"/Users/alextanhongpin/Documents/python/python-pytorch/.venv/lib/python3.11/site-packages/sqlalchemy/engine/base.py\", line 1970, in _exec_single_context\n",
      "    self.dialect.do_execute(\n",
      "  File \"/Users/alextanhongpin/Documents/python/python-pytorch/.venv/lib/python3.11/site-packages/sqlalchemy/engine/default.py\", line 924, in do_execute\n",
      "    cursor.execute(statement, parameters)\n",
      "sqlite3.OperationalError: no such table: version_info\n",
      "\n",
      "The above exception was the direct cause of the following exception:\n",
      "\n",
      "Traceback (most recent call last):\n",
      "  File \"/Users/alextanhongpin/Documents/python/python-pytorch/.venv/lib/python3.11/site-packages/optuna/storages/_rdb/storage.py\", line 73, in _create_scoped_session\n",
      "    yield session\n",
      "  File \"/Users/alextanhongpin/Documents/python/python-pytorch/.venv/lib/python3.11/site-packages/optuna/storages/_rdb/storage.py\", line 1043, in _init_version_info_model\n",
      "    version_info = models.VersionInfoModel.find(session)\n",
      "                   ^^^^^^^^^^^^^^^^^^^^^^^^^^^^^^^^^^^^^\n",
      "  File \"/Users/alextanhongpin/Documents/python/python-pytorch/.venv/lib/python3.11/site-packages/optuna/storages/_rdb/models.py\", line 578, in find\n",
      "    version_info = session.query(cls).one_or_none()\n",
      "                   ^^^^^^^^^^^^^^^^^^^^^^^^^^^^^^^^\n",
      "  File \"/Users/alextanhongpin/Documents/python/python-pytorch/.venv/lib/python3.11/site-packages/sqlalchemy/orm/query.py\", line 2754, in one_or_none\n",
      "    return self._iter().one_or_none()  # type: ignore\n",
      "           ^^^^^^^^^^^^\n",
      "  File \"/Users/alextanhongpin/Documents/python/python-pytorch/.venv/lib/python3.11/site-packages/sqlalchemy/orm/query.py\", line 2827, in _iter\n",
      "    result: Union[ScalarResult[_T], Result[_T]] = self.session.execute(\n",
      "                                                  ^^^^^^^^^^^^^^^^^^^^^\n",
      "  File \"/Users/alextanhongpin/Documents/python/python-pytorch/.venv/lib/python3.11/site-packages/sqlalchemy/orm/session.py\", line 2306, in execute\n",
      "    return self._execute_internal(\n",
      "           ^^^^^^^^^^^^^^^^^^^^^^^\n",
      "  File \"/Users/alextanhongpin/Documents/python/python-pytorch/.venv/lib/python3.11/site-packages/sqlalchemy/orm/session.py\", line 2191, in _execute_internal\n",
      "    result: Result[Any] = compile_state_cls.orm_execute_statement(\n",
      "                          ^^^^^^^^^^^^^^^^^^^^^^^^^^^^^^^^^^^^^^^^\n",
      "  File \"/Users/alextanhongpin/Documents/python/python-pytorch/.venv/lib/python3.11/site-packages/sqlalchemy/orm/context.py\", line 293, in orm_execute_statement\n",
      "    result = conn.execute(\n",
      "             ^^^^^^^^^^^^^\n",
      "  File \"/Users/alextanhongpin/Documents/python/python-pytorch/.venv/lib/python3.11/site-packages/sqlalchemy/engine/base.py\", line 1421, in execute\n",
      "    return meth(\n",
      "           ^^^^^\n",
      "  File \"/Users/alextanhongpin/Documents/python/python-pytorch/.venv/lib/python3.11/site-packages/sqlalchemy/sql/elements.py\", line 514, in _execute_on_connection\n",
      "    return connection._execute_clauseelement(\n",
      "           ^^^^^^^^^^^^^^^^^^^^^^^^^^^^^^^^^^\n",
      "  File \"/Users/alextanhongpin/Documents/python/python-pytorch/.venv/lib/python3.11/site-packages/sqlalchemy/engine/base.py\", line 1643, in _execute_clauseelement\n",
      "    ret = self._execute_context(\n",
      "          ^^^^^^^^^^^^^^^^^^^^^^\n",
      "  File \"/Users/alextanhongpin/Documents/python/python-pytorch/.venv/lib/python3.11/site-packages/sqlalchemy/engine/base.py\", line 1849, in _execute_context\n",
      "    return self._exec_single_context(\n",
      "           ^^^^^^^^^^^^^^^^^^^^^^^^^^\n",
      "  File \"/Users/alextanhongpin/Documents/python/python-pytorch/.venv/lib/python3.11/site-packages/sqlalchemy/engine/base.py\", line 1989, in _exec_single_context\n",
      "    self._handle_dbapi_exception(\n",
      "  File \"/Users/alextanhongpin/Documents/python/python-pytorch/.venv/lib/python3.11/site-packages/sqlalchemy/engine/base.py\", line 2356, in _handle_dbapi_exception\n",
      "    raise sqlalchemy_exception.with_traceback(exc_info[2]) from e\n",
      "  File \"/Users/alextanhongpin/Documents/python/python-pytorch/.venv/lib/python3.11/site-packages/sqlalchemy/engine/base.py\", line 1970, in _exec_single_context\n",
      "    self.dialect.do_execute(\n",
      "  File \"/Users/alextanhongpin/Documents/python/python-pytorch/.venv/lib/python3.11/site-packages/sqlalchemy/engine/default.py\", line 924, in do_execute\n",
      "    cursor.execute(statement, parameters)\n",
      "sqlalchemy.exc.OperationalError: (sqlite3.OperationalError) no such table: version_info\n",
      "[SQL: SELECT version_info.version_info_id AS version_info_version_info_id, version_info.schema_version AS version_info_schema_version, version_info.library_version AS version_info_library_version \n",
      "FROM version_info]\n",
      "(Background on this error at: https://sqlalche.me/e/20/e3q8)\n",
      "\n",
      "The above exception was the direct cause of the following exception:\n",
      "\n",
      "Traceback (most recent call last):\n",
      "  File \"/Users/alextanhongpin/Documents/python/python-pytorch/.venv/bin/optuna-dashboard\", line 8, in <module>\n",
      "    sys.exit(main())\n",
      "             ^^^^^^\n",
      "  File \"/Users/alextanhongpin/Documents/python/python-pytorch/.venv/lib/python3.11/site-packages/optuna_dashboard/_cli.py\", line 119, in main\n",
      "    storage = get_storage(args.storage, storage_class=args.storage_class)\n",
      "              ^^^^^^^^^^^^^^^^^^^^^^^^^^^^^^^^^^^^^^^^^^^^^^^^^^^^^^^^^^^\n",
      "  File \"/Users/alextanhongpin/Documents/python/python-pytorch/.venv/lib/python3.11/site-packages/optuna_dashboard/_storage_url.py\", line 58, in get_storage\n",
      "    return guess_storage_from_url(storage)\n",
      "           ^^^^^^^^^^^^^^^^^^^^^^^^^^^^^^^\n",
      "  File \"/Users/alextanhongpin/Documents/python/python-pytorch/.venv/lib/python3.11/site-packages/optuna_dashboard/_storage_url.py\", line 69, in guess_storage_from_url\n",
      "    return get_rdb_storage(storage_url)\n",
      "           ^^^^^^^^^^^^^^^^^^^^^^^^^^^^\n",
      "  File \"/Users/alextanhongpin/Documents/python/python-pytorch/.venv/lib/python3.11/site-packages/optuna_dashboard/_storage_url.py\", line 76, in get_rdb_storage\n",
      "    return RDBStorage(storage_url, skip_compatibility_check=True, skip_table_creation=True)\n",
      "           ^^^^^^^^^^^^^^^^^^^^^^^^^^^^^^^^^^^^^^^^^^^^^^^^^^^^^^^^^^^^^^^^^^^^^^^^^^^^^^^^\n",
      "  File \"/Users/alextanhongpin/Documents/python/python-pytorch/.venv/lib/python3.11/site-packages/optuna/storages/_rdb/storage.py\", line 232, in __init__\n",
      "    self._version_manager = _VersionManager(self.url, self.engine, self.scoped_session)\n",
      "                            ^^^^^^^^^^^^^^^^^^^^^^^^^^^^^^^^^^^^^^^^^^^^^^^^^^^^^^^^^^^\n",
      "  File \"/Users/alextanhongpin/Documents/python/python-pytorch/.venv/lib/python3.11/site-packages/optuna/storages/_rdb/storage.py\", line 1038, in __init__\n",
      "    self._init_version_info_model()\n",
      "  File \"/Users/alextanhongpin/Documents/python/python-pytorch/.venv/lib/python3.11/site-packages/optuna/storages/_rdb/storage.py\", line 1042, in _init_version_info_model\n",
      "    with _create_scoped_session(self.scoped_session, True) as session:\n",
      "  File \"/usr/local/Cellar/python@3.11/3.11.8/Frameworks/Python.framework/Versions/3.11/lib/python3.11/contextlib.py\", line 158, in __exit__\n",
      "    self.gen.throw(typ, value, traceback)\n",
      "  File \"/Users/alextanhongpin/Documents/python/python-pytorch/.venv/lib/python3.11/site-packages/optuna/storages/_rdb/storage.py\", line 91, in _create_scoped_session\n",
      "    raise optuna.exceptions.StorageInternalError(message) from e\n",
      "optuna.exceptions.StorageInternalError: An exception is raised during the commit. This typically happens due to invalid data in the commit, e.g. exceeding max length. \n"
     ]
    }
   ],
   "source": [
    "!optuna-dashboard sqlite:///db.sqlite3"
   ]
  },
  {
   "cell_type": "code",
   "execution_count": null,
   "id": "3f98a5c1-1cb8-41fe-bf45-c6c42cef7d73",
   "metadata": {},
   "outputs": [],
   "source": []
  }
 ],
 "metadata": {
  "kernelspec": {
   "display_name": "Python 3 (ipykernel)",
   "language": "python",
   "name": "python3"
  },
  "language_info": {
   "codemirror_mode": {
    "name": "ipython",
    "version": 3
   },
   "file_extension": ".py",
   "mimetype": "text/x-python",
   "name": "python",
   "nbconvert_exporter": "python",
   "pygments_lexer": "ipython3",
   "version": "3.11.8"
  }
 },
 "nbformat": 4,
 "nbformat_minor": 5
}
