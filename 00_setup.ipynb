{
 "cells": [
  {
   "cell_type": "markdown",
   "id": "e8fe1178-1a55-4672-8497-805f4dabeb44",
   "metadata": {},
   "source": [
    "# Setup\n",
    "\n",
    "Check the python's version and also validate if the kernel for Jupyterlab is configured correctly."
   ]
  },
  {
   "cell_type": "code",
   "execution_count": 1,
   "id": "f6074edb-de47-4bf1-b164-dfc72b931481",
   "metadata": {
    "execution": {
     "iopub.execute_input": "2024-03-09T08:21:17.773073Z",
     "iopub.status.busy": "2024-03-09T08:21:17.770687Z",
     "iopub.status.idle": "2024-03-09T08:21:18.083038Z",
     "shell.execute_reply": "2024-03-09T08:21:18.082023Z",
     "shell.execute_reply.started": "2024-03-09T08:21:17.773018Z"
    }
   },
   "outputs": [
    {
     "name": "stdout",
     "output_type": "stream",
     "text": [
      "Python 3.11.8\n"
     ]
    }
   ],
   "source": [
    "import sys\n",
    "\n",
    "# Prints the existing python version.\n",
    "!\"{sys.executable}\" --version"
   ]
  },
  {
   "cell_type": "code",
   "execution_count": 6,
   "id": "5598738c-37a8-4669-92a0-9ab8e53f8316",
   "metadata": {
    "execution": {
     "iopub.execute_input": "2024-03-09T08:22:22.338519Z",
     "iopub.status.busy": "2024-03-09T08:22:22.337507Z",
     "iopub.status.idle": "2024-03-09T08:22:22.524449Z",
     "shell.execute_reply": "2024-03-09T08:22:22.522735Z",
     "shell.execute_reply.started": "2024-03-09T08:22:22.338452Z"
    }
   },
   "outputs": [
    {
     "name": "stdout",
     "output_type": "stream",
     "text": [
      "/Users/alextanhongpin/Documents/python/python-pytorch/.venv/bin/python\n"
     ]
    }
   ],
   "source": [
    "# This should point to the existing project directory `.venv/bin/python`.\n",
    "# Otherwise, run `make kernel`\n",
    "!which \"{sys.executable}\""
   ]
  },
  {
   "cell_type": "code",
   "execution_count": null,
   "id": "4df8ded9-40dd-49c4-bdd5-d520fa100ce9",
   "metadata": {},
   "outputs": [],
   "source": []
  }
 ],
 "metadata": {
  "kernelspec": {
   "display_name": "Python 3 (ipykernel)",
   "language": "python",
   "name": "python3"
  },
  "language_info": {
   "codemirror_mode": {
    "name": "ipython",
    "version": 3
   },
   "file_extension": ".py",
   "mimetype": "text/x-python",
   "name": "python",
   "nbconvert_exporter": "python",
   "pygments_lexer": "ipython3",
   "version": "3.11.8"
  }
 },
 "nbformat": 4,
 "nbformat_minor": 5
}
